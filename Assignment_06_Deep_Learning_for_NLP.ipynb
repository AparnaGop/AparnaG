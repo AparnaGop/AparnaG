{
  "nbformat": 4,
  "nbformat_minor": 0,
  "metadata": {
    "colab": {
      "provenance": []
    },
    "kernelspec": {
      "name": "python3",
      "display_name": "Python 3"
    },
    "language_info": {
      "name": "python"
    }
  },
  "cells": [
    {
      "cell_type": "markdown",
      "source": [
        "#Import Necessary Libraries"
      ],
      "metadata": {
        "id": "oXer-XlHFLvu"
      }
    },
    {
      "cell_type": "code",
      "source": [
        "import pandas as pd\n",
        "import numpy as np\n",
        "import matplotlib.pyplot as plt\n",
        "import seaborn as sns\n",
        "from sklearn.model_selection import train_test_split\n",
        "from sklearn.preprocessing import LabelEncoder\n",
        "from tensorflow.keras.preprocessing.text import Tokenizer\n",
        "from tensorflow.keras.preprocessing.sequence import pad_sequences\n",
        "from tensorflow.keras.models import Sequential\n",
        "from tensorflow.keras.layers import Embedding, LSTM, Dense, Dropout"
      ],
      "metadata": {
        "id": "OtwHMGVwFQ6D"
      },
      "execution_count": 1,
      "outputs": []
    },
    {
      "cell_type": "markdown",
      "source": [
        "#Load and Explore the Dataset"
      ],
      "metadata": {
        "id": "cWWI3GEEFtU8"
      }
    },
    {
      "cell_type": "code",
      "source": [
        "data = pd.read_csv(\"/content/judge-1377884607_tweet_product_company.csv\", encoding='ISO-8859-1')\n",
        "data.head()\n"
      ],
      "metadata": {
        "colab": {
          "base_uri": "https://localhost:8080/",
          "height": 206
        },
        "id": "kP6b0xBMFyRE",
        "outputId": "5c67abbc-f7b3-4eb9-f874-1427945322b8"
      },
      "execution_count": 2,
      "outputs": [
        {
          "output_type": "execute_result",
          "data": {
            "text/plain": [
              "                                          tweet_text  \\\n",
              "0  .@wesley83 I have a 3G iPhone. After 3 hrs twe...   \n",
              "1  @jessedee Know about @fludapp ? Awesome iPad/i...   \n",
              "2  @swonderlin Can not wait for #iPad 2 also. The...   \n",
              "3  @sxsw I hope this year's festival isn't as cra...   \n",
              "4  @sxtxstate great stuff on Fri #SXSW: Marissa M...   \n",
              "\n",
              "  emotion_in_tweet_is_directed_at  \\\n",
              "0                          iPhone   \n",
              "1              iPad or iPhone App   \n",
              "2                            iPad   \n",
              "3              iPad or iPhone App   \n",
              "4                          Google   \n",
              "\n",
              "  is_there_an_emotion_directed_at_a_brand_or_product  \n",
              "0                                   Negative emotion  \n",
              "1                                   Positive emotion  \n",
              "2                                   Positive emotion  \n",
              "3                                   Negative emotion  \n",
              "4                                   Positive emotion  "
            ],
            "text/html": [
              "\n",
              "  <div id=\"df-73fefb21-8676-40c8-9ef4-fa9dbf758ca9\" class=\"colab-df-container\">\n",
              "    <div>\n",
              "<style scoped>\n",
              "    .dataframe tbody tr th:only-of-type {\n",
              "        vertical-align: middle;\n",
              "    }\n",
              "\n",
              "    .dataframe tbody tr th {\n",
              "        vertical-align: top;\n",
              "    }\n",
              "\n",
              "    .dataframe thead th {\n",
              "        text-align: right;\n",
              "    }\n",
              "</style>\n",
              "<table border=\"1\" class=\"dataframe\">\n",
              "  <thead>\n",
              "    <tr style=\"text-align: right;\">\n",
              "      <th></th>\n",
              "      <th>tweet_text</th>\n",
              "      <th>emotion_in_tweet_is_directed_at</th>\n",
              "      <th>is_there_an_emotion_directed_at_a_brand_or_product</th>\n",
              "    </tr>\n",
              "  </thead>\n",
              "  <tbody>\n",
              "    <tr>\n",
              "      <th>0</th>\n",
              "      <td>.@wesley83 I have a 3G iPhone. After 3 hrs twe...</td>\n",
              "      <td>iPhone</td>\n",
              "      <td>Negative emotion</td>\n",
              "    </tr>\n",
              "    <tr>\n",
              "      <th>1</th>\n",
              "      <td>@jessedee Know about @fludapp ? Awesome iPad/i...</td>\n",
              "      <td>iPad or iPhone App</td>\n",
              "      <td>Positive emotion</td>\n",
              "    </tr>\n",
              "    <tr>\n",
              "      <th>2</th>\n",
              "      <td>@swonderlin Can not wait for #iPad 2 also. The...</td>\n",
              "      <td>iPad</td>\n",
              "      <td>Positive emotion</td>\n",
              "    </tr>\n",
              "    <tr>\n",
              "      <th>3</th>\n",
              "      <td>@sxsw I hope this year's festival isn't as cra...</td>\n",
              "      <td>iPad or iPhone App</td>\n",
              "      <td>Negative emotion</td>\n",
              "    </tr>\n",
              "    <tr>\n",
              "      <th>4</th>\n",
              "      <td>@sxtxstate great stuff on Fri #SXSW: Marissa M...</td>\n",
              "      <td>Google</td>\n",
              "      <td>Positive emotion</td>\n",
              "    </tr>\n",
              "  </tbody>\n",
              "</table>\n",
              "</div>\n",
              "    <div class=\"colab-df-buttons\">\n",
              "\n",
              "  <div class=\"colab-df-container\">\n",
              "    <button class=\"colab-df-convert\" onclick=\"convertToInteractive('df-73fefb21-8676-40c8-9ef4-fa9dbf758ca9')\"\n",
              "            title=\"Convert this dataframe to an interactive table.\"\n",
              "            style=\"display:none;\">\n",
              "\n",
              "  <svg xmlns=\"http://www.w3.org/2000/svg\" height=\"24px\" viewBox=\"0 -960 960 960\">\n",
              "    <path d=\"M120-120v-720h720v720H120Zm60-500h600v-160H180v160Zm220 220h160v-160H400v160Zm0 220h160v-160H400v160ZM180-400h160v-160H180v160Zm440 0h160v-160H620v160ZM180-180h160v-160H180v160Zm440 0h160v-160H620v160Z\"/>\n",
              "  </svg>\n",
              "    </button>\n",
              "\n",
              "  <style>\n",
              "    .colab-df-container {\n",
              "      display:flex;\n",
              "      gap: 12px;\n",
              "    }\n",
              "\n",
              "    .colab-df-convert {\n",
              "      background-color: #E8F0FE;\n",
              "      border: none;\n",
              "      border-radius: 50%;\n",
              "      cursor: pointer;\n",
              "      display: none;\n",
              "      fill: #1967D2;\n",
              "      height: 32px;\n",
              "      padding: 0 0 0 0;\n",
              "      width: 32px;\n",
              "    }\n",
              "\n",
              "    .colab-df-convert:hover {\n",
              "      background-color: #E2EBFA;\n",
              "      box-shadow: 0px 1px 2px rgba(60, 64, 67, 0.3), 0px 1px 3px 1px rgba(60, 64, 67, 0.15);\n",
              "      fill: #174EA6;\n",
              "    }\n",
              "\n",
              "    .colab-df-buttons div {\n",
              "      margin-bottom: 4px;\n",
              "    }\n",
              "\n",
              "    [theme=dark] .colab-df-convert {\n",
              "      background-color: #3B4455;\n",
              "      fill: #D2E3FC;\n",
              "    }\n",
              "\n",
              "    [theme=dark] .colab-df-convert:hover {\n",
              "      background-color: #434B5C;\n",
              "      box-shadow: 0px 1px 3px 1px rgba(0, 0, 0, 0.15);\n",
              "      filter: drop-shadow(0px 1px 2px rgba(0, 0, 0, 0.3));\n",
              "      fill: #FFFFFF;\n",
              "    }\n",
              "  </style>\n",
              "\n",
              "    <script>\n",
              "      const buttonEl =\n",
              "        document.querySelector('#df-73fefb21-8676-40c8-9ef4-fa9dbf758ca9 button.colab-df-convert');\n",
              "      buttonEl.style.display =\n",
              "        google.colab.kernel.accessAllowed ? 'block' : 'none';\n",
              "\n",
              "      async function convertToInteractive(key) {\n",
              "        const element = document.querySelector('#df-73fefb21-8676-40c8-9ef4-fa9dbf758ca9');\n",
              "        const dataTable =\n",
              "          await google.colab.kernel.invokeFunction('convertToInteractive',\n",
              "                                                    [key], {});\n",
              "        if (!dataTable) return;\n",
              "\n",
              "        const docLinkHtml = 'Like what you see? Visit the ' +\n",
              "          '<a target=\"_blank\" href=https://colab.research.google.com/notebooks/data_table.ipynb>data table notebook</a>'\n",
              "          + ' to learn more about interactive tables.';\n",
              "        element.innerHTML = '';\n",
              "        dataTable['output_type'] = 'display_data';\n",
              "        await google.colab.output.renderOutput(dataTable, element);\n",
              "        const docLink = document.createElement('div');\n",
              "        docLink.innerHTML = docLinkHtml;\n",
              "        element.appendChild(docLink);\n",
              "      }\n",
              "    </script>\n",
              "  </div>\n",
              "\n",
              "\n",
              "<div id=\"df-2b3a759e-e37c-491e-a47e-dd492fb995ca\">\n",
              "  <button class=\"colab-df-quickchart\" onclick=\"quickchart('df-2b3a759e-e37c-491e-a47e-dd492fb995ca')\"\n",
              "            title=\"Suggest charts\"\n",
              "            style=\"display:none;\">\n",
              "\n",
              "<svg xmlns=\"http://www.w3.org/2000/svg\" height=\"24px\"viewBox=\"0 0 24 24\"\n",
              "     width=\"24px\">\n",
              "    <g>\n",
              "        <path d=\"M19 3H5c-1.1 0-2 .9-2 2v14c0 1.1.9 2 2 2h14c1.1 0 2-.9 2-2V5c0-1.1-.9-2-2-2zM9 17H7v-7h2v7zm4 0h-2V7h2v10zm4 0h-2v-4h2v4z\"/>\n",
              "    </g>\n",
              "</svg>\n",
              "  </button>\n",
              "\n",
              "<style>\n",
              "  .colab-df-quickchart {\n",
              "      --bg-color: #E8F0FE;\n",
              "      --fill-color: #1967D2;\n",
              "      --hover-bg-color: #E2EBFA;\n",
              "      --hover-fill-color: #174EA6;\n",
              "      --disabled-fill-color: #AAA;\n",
              "      --disabled-bg-color: #DDD;\n",
              "  }\n",
              "\n",
              "  [theme=dark] .colab-df-quickchart {\n",
              "      --bg-color: #3B4455;\n",
              "      --fill-color: #D2E3FC;\n",
              "      --hover-bg-color: #434B5C;\n",
              "      --hover-fill-color: #FFFFFF;\n",
              "      --disabled-bg-color: #3B4455;\n",
              "      --disabled-fill-color: #666;\n",
              "  }\n",
              "\n",
              "  .colab-df-quickchart {\n",
              "    background-color: var(--bg-color);\n",
              "    border: none;\n",
              "    border-radius: 50%;\n",
              "    cursor: pointer;\n",
              "    display: none;\n",
              "    fill: var(--fill-color);\n",
              "    height: 32px;\n",
              "    padding: 0;\n",
              "    width: 32px;\n",
              "  }\n",
              "\n",
              "  .colab-df-quickchart:hover {\n",
              "    background-color: var(--hover-bg-color);\n",
              "    box-shadow: 0 1px 2px rgba(60, 64, 67, 0.3), 0 1px 3px 1px rgba(60, 64, 67, 0.15);\n",
              "    fill: var(--button-hover-fill-color);\n",
              "  }\n",
              "\n",
              "  .colab-df-quickchart-complete:disabled,\n",
              "  .colab-df-quickchart-complete:disabled:hover {\n",
              "    background-color: var(--disabled-bg-color);\n",
              "    fill: var(--disabled-fill-color);\n",
              "    box-shadow: none;\n",
              "  }\n",
              "\n",
              "  .colab-df-spinner {\n",
              "    border: 2px solid var(--fill-color);\n",
              "    border-color: transparent;\n",
              "    border-bottom-color: var(--fill-color);\n",
              "    animation:\n",
              "      spin 1s steps(1) infinite;\n",
              "  }\n",
              "\n",
              "  @keyframes spin {\n",
              "    0% {\n",
              "      border-color: transparent;\n",
              "      border-bottom-color: var(--fill-color);\n",
              "      border-left-color: var(--fill-color);\n",
              "    }\n",
              "    20% {\n",
              "      border-color: transparent;\n",
              "      border-left-color: var(--fill-color);\n",
              "      border-top-color: var(--fill-color);\n",
              "    }\n",
              "    30% {\n",
              "      border-color: transparent;\n",
              "      border-left-color: var(--fill-color);\n",
              "      border-top-color: var(--fill-color);\n",
              "      border-right-color: var(--fill-color);\n",
              "    }\n",
              "    40% {\n",
              "      border-color: transparent;\n",
              "      border-right-color: var(--fill-color);\n",
              "      border-top-color: var(--fill-color);\n",
              "    }\n",
              "    60% {\n",
              "      border-color: transparent;\n",
              "      border-right-color: var(--fill-color);\n",
              "    }\n",
              "    80% {\n",
              "      border-color: transparent;\n",
              "      border-right-color: var(--fill-color);\n",
              "      border-bottom-color: var(--fill-color);\n",
              "    }\n",
              "    90% {\n",
              "      border-color: transparent;\n",
              "      border-bottom-color: var(--fill-color);\n",
              "    }\n",
              "  }\n",
              "</style>\n",
              "\n",
              "  <script>\n",
              "    async function quickchart(key) {\n",
              "      const quickchartButtonEl =\n",
              "        document.querySelector('#' + key + ' button');\n",
              "      quickchartButtonEl.disabled = true;  // To prevent multiple clicks.\n",
              "      quickchartButtonEl.classList.add('colab-df-spinner');\n",
              "      try {\n",
              "        const charts = await google.colab.kernel.invokeFunction(\n",
              "            'suggestCharts', [key], {});\n",
              "      } catch (error) {\n",
              "        console.error('Error during call to suggestCharts:', error);\n",
              "      }\n",
              "      quickchartButtonEl.classList.remove('colab-df-spinner');\n",
              "      quickchartButtonEl.classList.add('colab-df-quickchart-complete');\n",
              "    }\n",
              "    (() => {\n",
              "      let quickchartButtonEl =\n",
              "        document.querySelector('#df-2b3a759e-e37c-491e-a47e-dd492fb995ca button');\n",
              "      quickchartButtonEl.style.display =\n",
              "        google.colab.kernel.accessAllowed ? 'block' : 'none';\n",
              "    })();\n",
              "  </script>\n",
              "</div>\n",
              "\n",
              "    </div>\n",
              "  </div>\n"
            ],
            "application/vnd.google.colaboratory.intrinsic+json": {
              "type": "dataframe",
              "variable_name": "data",
              "summary": "{\n  \"name\": \"data\",\n  \"rows\": 9093,\n  \"fields\": [\n    {\n      \"column\": \"tweet_text\",\n      \"properties\": {\n        \"dtype\": \"string\",\n        \"num_unique_values\": 9065,\n        \"samples\": [\n          \"RT @mention @mention shows #Apple 's position in the tablet wars. #tapworthy #sxsw  {link}\",\n          \"My first #SXSW survival kit. iPhone not in the shot because I'm using it to take the picture.  {link} I might be ready.\",\n          \"RT@mention by parabolico_bh MARAVILHA, APROVEITEM!\\n{link} \\u0089\\u00e3_ #edchat #musedchat #sxsw #sxswi #classical\"\n        ],\n        \"semantic_type\": \"\",\n        \"description\": \"\"\n      }\n    },\n    {\n      \"column\": \"emotion_in_tweet_is_directed_at\",\n      \"properties\": {\n        \"dtype\": \"category\",\n        \"num_unique_values\": 9,\n        \"samples\": [\n          \"Other Google product or service\",\n          \"iPad or iPhone App\",\n          \"Apple\"\n        ],\n        \"semantic_type\": \"\",\n        \"description\": \"\"\n      }\n    },\n    {\n      \"column\": \"is_there_an_emotion_directed_at_a_brand_or_product\",\n      \"properties\": {\n        \"dtype\": \"category\",\n        \"num_unique_values\": 4,\n        \"samples\": [\n          \"Positive emotion\",\n          \"I can't tell\",\n          \"Negative emotion\"\n        ],\n        \"semantic_type\": \"\",\n        \"description\": \"\"\n      }\n    }\n  ]\n}"
            }
          },
          "metadata": {},
          "execution_count": 2
        }
      ]
    },
    {
      "cell_type": "markdown",
      "source": [
        "#Data Preprocessing\n"
      ],
      "metadata": {
        "id": "95oJk-KEN1ND"
      }
    },
    {
      "cell_type": "code",
      "source": [
        "print(data.columns)"
      ],
      "metadata": {
        "colab": {
          "base_uri": "https://localhost:8080/"
        },
        "id": "yOxl9ycIju9E",
        "outputId": "497d9fe4-c2c6-4bdb-d56e-fb63643c7629"
      },
      "execution_count": 3,
      "outputs": [
        {
          "output_type": "stream",
          "name": "stdout",
          "text": [
            "Index(['tweet_text', 'emotion_in_tweet_is_directed_at',\n",
            "       'is_there_an_emotion_directed_at_a_brand_or_product'],\n",
            "      dtype='object')\n"
          ]
        }
      ]
    },
    {
      "cell_type": "code",
      "source": [
        "# Drop unnecessary columns\n",
        "data = data.drop(columns=['emotion_in_tweet_is_directed_at'])"
      ],
      "metadata": {
        "id": "5JQS7Xk2ZYn0"
      },
      "execution_count": 5,
      "outputs": []
    },
    {
      "cell_type": "code",
      "source": [
        "# Rename columns\n",
        "data.rename(columns={'tweet_text': 'text',\n",
        "                     'is_there_an_emotion_directed_at_a_brand_or_product': 'sentiment'}, inplace=True)\n"
      ],
      "metadata": {
        "id": "axi4UgePZeFf"
      },
      "execution_count": 6,
      "outputs": []
    },
    {
      "cell_type": "code",
      "source": [
        "# Check for missing values\n",
        "print(\"Missing values:\", data.isnull().sum())"
      ],
      "metadata": {
        "colab": {
          "base_uri": "https://localhost:8080/"
        },
        "id": "NicnA6DpZkMv",
        "outputId": "712779dd-e521-4427-9c90-58cbed19e2d3"
      },
      "execution_count": 7,
      "outputs": [
        {
          "output_type": "stream",
          "name": "stdout",
          "text": [
            "Missing values: text         1\n",
            "sentiment    0\n",
            "dtype: int64\n"
          ]
        }
      ]
    },
    {
      "cell_type": "code",
      "source": [
        "# Drop rows with missing values in the 'text' column\n",
        "data = data.dropna(subset=['text'])"
      ],
      "metadata": {
        "id": "px-lL8VSbxxh"
      },
      "execution_count": 8,
      "outputs": []
    },
    {
      "cell_type": "code",
      "source": [
        "print(\"Missing values after dropping:\", data.isnull().sum())"
      ],
      "metadata": {
        "colab": {
          "base_uri": "https://localhost:8080/"
        },
        "id": "N5N63HB-b4Ct",
        "outputId": "5b42ada8-c53b-4406-e962-25c39c868b9b"
      },
      "execution_count": 9,
      "outputs": [
        {
          "output_type": "stream",
          "name": "stdout",
          "text": [
            "Missing values after dropping: text         0\n",
            "sentiment    0\n",
            "dtype: int64\n"
          ]
        }
      ]
    },
    {
      "cell_type": "markdown",
      "source": [
        "#Encode"
      ],
      "metadata": {
        "id": "2QXAsZYoiXsQ"
      }
    },
    {
      "cell_type": "code",
      "source": [
        "y_train = label_encoder.transform(y_train)\n",
        "y_test = label_encoder.transform(y_test)\n",
        "\n",
        "# Verify the data type and samples\n",
        "print(\"y_train data type:\", y_train.dtype)\n",
        "print(\"y_train sample:\", y_train[:5])\n",
        "print(\"Class distribution in training set:\", np.bincount(y_train))\n",
        "print(\"Class distribution in testing set:\", np.bincount(y_test))\n"
      ],
      "metadata": {
        "colab": {
          "base_uri": "https://localhost:8080/"
        },
        "id": "fz7aMqjHircb",
        "outputId": "a2061377-51da-4b02-ac0e-fd8b54c0800a"
      },
      "execution_count": 35,
      "outputs": [
        {
          "output_type": "stream",
          "name": "stdout",
          "text": [
            "y_train data type: int64\n",
            "y_train sample: [2 2 1 2 2]\n",
            "Class distribution in training set: [ 125  456 4310 2382]\n",
            "Class distribution in testing set: [  31  114 1078  596]\n"
          ]
        }
      ]
    },
    {
      "cell_type": "code",
      "source": [
        "# Display the mapping of classes to integers\n",
        "print(\"Class Mapping:\", dict(zip(label_encoder.classes_, label_encoder.transform(label_encoder.classes_))))"
      ],
      "metadata": {
        "colab": {
          "base_uri": "https://localhost:8080/"
        },
        "id": "vjoNIKpdiz0n",
        "outputId": "94d05a97-fa6a-4722-de7d-5bafbcc0e296"
      },
      "execution_count": 33,
      "outputs": [
        {
          "output_type": "stream",
          "name": "stdout",
          "text": [
            "Class Mapping: {\"I can't tell\": 0, 'Negative emotion': 1, 'No emotion toward brand or product': 2, 'Positive emotion': 3}\n"
          ]
        }
      ]
    },
    {
      "cell_type": "code",
      "source": [
        "# Split the data into features (text) and target (sentiment)\n",
        "X = data['text'].values\n",
        "y = data['sentiment'].values"
      ],
      "metadata": {
        "id": "HpPQzNu4jIsW"
      },
      "execution_count": 28,
      "outputs": []
    },
    {
      "cell_type": "code",
      "source": [
        "# Display a few samples to confirm the encoding\n",
        "print(\"Sample texts:\", X[:5])\n",
        "print(\"Sample encoded sentiments:\", y[:5])"
      ],
      "metadata": {
        "colab": {
          "base_uri": "https://localhost:8080/"
        },
        "id": "AHaFxvByjOQy",
        "outputId": "f89665b3-2461-418a-ecea-9a633e8d2042"
      },
      "execution_count": 29,
      "outputs": [
        {
          "output_type": "stream",
          "name": "stdout",
          "text": [
            "Sample texts: ['.@wesley83 I have a 3G iPhone. After 3 hrs tweeting at #RISE_Austin, it was dead!  I need to upgrade. Plugin stations at #SXSW.'\n",
            " \"@jessedee Know about @fludapp ? Awesome iPad/iPhone app that you'll likely appreciate for its design. Also, they're giving free Ts at #SXSW\"\n",
            " '@swonderlin Can not wait for #iPad 2 also. They should sale them down at #SXSW.'\n",
            " \"@sxsw I hope this year's festival isn't as crashy as this year's iPhone app. #sxsw\"\n",
            " \"@sxtxstate great stuff on Fri #SXSW: Marissa Mayer (Google), Tim O'Reilly (tech books/conferences) &amp; Matt Mullenweg (Wordpress)\"]\n",
            "Sample encoded sentiments: [1 3 3 1 3]\n"
          ]
        }
      ]
    },
    {
      "cell_type": "markdown",
      "source": [
        "#Tokenize and Padding"
      ],
      "metadata": {
        "id": "v6Gu0m3TSbWD"
      }
    },
    {
      "cell_type": "code",
      "source": [
        "# Define the maximum number of words to keep in the vocabulary and the maximum sequence length\n",
        "MAX_WORDS = 10000  # Vocabulary size\n",
        "MAX_SEQUENCE_LENGTH = 100  # Maximum number of words per tweet"
      ],
      "metadata": {
        "id": "J_M854BocdOb"
      },
      "execution_count": 10,
      "outputs": []
    },
    {
      "cell_type": "code",
      "source": [
        "# Tokenize the text\n",
        "tokenizer = Tokenizer(num_words=MAX_WORDS)\n",
        "tokenizer.fit_on_texts(data['text'])"
      ],
      "metadata": {
        "id": "jxT4EHaIciCP"
      },
      "execution_count": 11,
      "outputs": []
    },
    {
      "cell_type": "code",
      "source": [
        "# Convert text to sequences\n",
        "sequences = tokenizer.texts_to_sequences(data['text'])"
      ],
      "metadata": {
        "id": "h9mHb3ymcku-"
      },
      "execution_count": 12,
      "outputs": []
    },
    {
      "cell_type": "code",
      "source": [
        "# Pad sequences to ensure uniform length\n",
        "padded_sequences = pad_sequences(sequences, maxlen=MAX_SEQUENCE_LENGTH, padding='post', truncating='post')"
      ],
      "metadata": {
        "id": "xutMNSaKcpV-"
      },
      "execution_count": 13,
      "outputs": []
    },
    {
      "cell_type": "code",
      "source": [
        "# Check the shape of the padded sequences\n",
        "print(\"Shape of padded sequences:\", padded_sequences.shape)"
      ],
      "metadata": {
        "colab": {
          "base_uri": "https://localhost:8080/"
        },
        "id": "-U9aAzNkcuAB",
        "outputId": "7fc689dd-61fe-4744-f118-f18b8fed4372"
      },
      "execution_count": 14,
      "outputs": [
        {
          "output_type": "stream",
          "name": "stdout",
          "text": [
            "Shape of padded sequences: (9092, 100)\n"
          ]
        }
      ]
    },
    {
      "cell_type": "markdown",
      "source": [
        "#Split the Dataset into Training and Testing Sets"
      ],
      "metadata": {
        "id": "pjjbBBNsVDN0"
      }
    },
    {
      "cell_type": "code",
      "source": [
        "# Split the data into training and testing sets\n",
        "X_train, X_test, y_train, y_test = train_test_split(padded_sequences, data['sentiment'],\n",
        "                                                    test_size=0.2, random_state=42, stratify=data['sentiment'])"
      ],
      "metadata": {
        "id": "Ag7hnvDFdOjx"
      },
      "execution_count": 15,
      "outputs": []
    },
    {
      "cell_type": "code",
      "source": [
        "# Check the shape of the training and testing sets\n",
        "print(\"Training set shape:\", X_train.shape, y_train.shape)\n",
        "print(\"Testing set shape:\", X_test.shape, y_test.shape)"
      ],
      "metadata": {
        "colab": {
          "base_uri": "https://localhost:8080/"
        },
        "id": "PC2PVNTbdSPW",
        "outputId": "6b7b498c-e1c9-4c90-cb5e-add3772cad20"
      },
      "execution_count": 16,
      "outputs": [
        {
          "output_type": "stream",
          "name": "stdout",
          "text": [
            "Training set shape: (7273, 100) (7273,)\n",
            "Testing set shape: (1819, 100) (1819,)\n"
          ]
        }
      ]
    },
    {
      "cell_type": "markdown",
      "source": [
        "#Build the LSTM Model"
      ],
      "metadata": {
        "id": "cGsLgNcddhwq"
      }
    },
    {
      "cell_type": "code",
      "source": [
        "# Define the LSTM model\n",
        "model = Sequential([\n",
        "\n",
        "    Embedding(input_dim=10000, output_dim=128, input_length=100),\n",
        "    LSTM(128, return_sequences=False),\n",
        "    Dropout(0.5),\n",
        "    Dense(4, activation='softmax')  # 4 classes: positive, negative, neutral, no_idea\n",
        "])"
      ],
      "metadata": {
        "id": "81bGhBp3dhWS"
      },
      "execution_count": 19,
      "outputs": []
    },
    {
      "cell_type": "code",
      "source": [
        "model.build(input_shape=(None, 100))  # (batch_size, sequence_length)"
      ],
      "metadata": {
        "id": "gFFCwo5afVjW"
      },
      "execution_count": 22,
      "outputs": []
    },
    {
      "cell_type": "code",
      "source": [
        "# Compile the model\n",
        "model.compile(optimizer='adam', loss='sparse_categorical_crossentropy', metrics=['accuracy'])\n"
      ],
      "metadata": {
        "id": "sQeJi4Sseal9"
      },
      "execution_count": 23,
      "outputs": []
    },
    {
      "cell_type": "code",
      "source": [
        "# Summary of the model\n",
        "model.summary()"
      ],
      "metadata": {
        "colab": {
          "base_uri": "https://localhost:8080/",
          "height": 272
        },
        "id": "s0AhqJknedUk",
        "outputId": "352d8b79-d073-434d-ea96-742abaef149c"
      },
      "execution_count": 24,
      "outputs": [
        {
          "output_type": "display_data",
          "data": {
            "text/plain": [
              "\u001b[1mModel: \"sequential_1\"\u001b[0m\n"
            ],
            "text/html": [
              "<pre style=\"white-space:pre;overflow-x:auto;line-height:normal;font-family:Menlo,'DejaVu Sans Mono',consolas,'Courier New',monospace\"><span style=\"font-weight: bold\">Model: \"sequential_1\"</span>\n",
              "</pre>\n"
            ]
          },
          "metadata": {}
        },
        {
          "output_type": "display_data",
          "data": {
            "text/plain": [
              "┏━━━━━━━━━━━━━━━━━━━━━━━━━━━━━━━━━━━━━━┳━━━━━━━━━━━━━━━━━━━━━━━━━━━━━┳━━━━━━━━━━━━━━━━━┓\n",
              "┃\u001b[1m \u001b[0m\u001b[1mLayer (type)                        \u001b[0m\u001b[1m \u001b[0m┃\u001b[1m \u001b[0m\u001b[1mOutput Shape               \u001b[0m\u001b[1m \u001b[0m┃\u001b[1m \u001b[0m\u001b[1m        Param #\u001b[0m\u001b[1m \u001b[0m┃\n",
              "┡━━━━━━━━━━━━━━━━━━━━━━━━━━━━━━━━━━━━━━╇━━━━━━━━━━━━━━━━━━━━━━━━━━━━━╇━━━━━━━━━━━━━━━━━┩\n",
              "│ embedding_1 (\u001b[38;5;33mEmbedding\u001b[0m)              │ (\u001b[38;5;45mNone\u001b[0m, \u001b[38;5;34m100\u001b[0m, \u001b[38;5;34m128\u001b[0m)            │       \u001b[38;5;34m1,280,000\u001b[0m │\n",
              "├──────────────────────────────────────┼─────────────────────────────┼─────────────────┤\n",
              "│ lstm_1 (\u001b[38;5;33mLSTM\u001b[0m)                        │ (\u001b[38;5;45mNone\u001b[0m, \u001b[38;5;34m128\u001b[0m)                 │         \u001b[38;5;34m131,584\u001b[0m │\n",
              "├──────────────────────────────────────┼─────────────────────────────┼─────────────────┤\n",
              "│ dropout_1 (\u001b[38;5;33mDropout\u001b[0m)                  │ (\u001b[38;5;45mNone\u001b[0m, \u001b[38;5;34m128\u001b[0m)                 │               \u001b[38;5;34m0\u001b[0m │\n",
              "├──────────────────────────────────────┼─────────────────────────────┼─────────────────┤\n",
              "│ dense_1 (\u001b[38;5;33mDense\u001b[0m)                      │ (\u001b[38;5;45mNone\u001b[0m, \u001b[38;5;34m4\u001b[0m)                   │             \u001b[38;5;34m516\u001b[0m │\n",
              "└──────────────────────────────────────┴─────────────────────────────┴─────────────────┘\n"
            ],
            "text/html": [
              "<pre style=\"white-space:pre;overflow-x:auto;line-height:normal;font-family:Menlo,'DejaVu Sans Mono',consolas,'Courier New',monospace\">┏━━━━━━━━━━━━━━━━━━━━━━━━━━━━━━━━━━━━━━┳━━━━━━━━━━━━━━━━━━━━━━━━━━━━━┳━━━━━━━━━━━━━━━━━┓\n",
              "┃<span style=\"font-weight: bold\"> Layer (type)                         </span>┃<span style=\"font-weight: bold\"> Output Shape                </span>┃<span style=\"font-weight: bold\">         Param # </span>┃\n",
              "┡━━━━━━━━━━━━━━━━━━━━━━━━━━━━━━━━━━━━━━╇━━━━━━━━━━━━━━━━━━━━━━━━━━━━━╇━━━━━━━━━━━━━━━━━┩\n",
              "│ embedding_1 (<span style=\"color: #0087ff; text-decoration-color: #0087ff\">Embedding</span>)              │ (<span style=\"color: #00d7ff; text-decoration-color: #00d7ff\">None</span>, <span style=\"color: #00af00; text-decoration-color: #00af00\">100</span>, <span style=\"color: #00af00; text-decoration-color: #00af00\">128</span>)            │       <span style=\"color: #00af00; text-decoration-color: #00af00\">1,280,000</span> │\n",
              "├──────────────────────────────────────┼─────────────────────────────┼─────────────────┤\n",
              "│ lstm_1 (<span style=\"color: #0087ff; text-decoration-color: #0087ff\">LSTM</span>)                        │ (<span style=\"color: #00d7ff; text-decoration-color: #00d7ff\">None</span>, <span style=\"color: #00af00; text-decoration-color: #00af00\">128</span>)                 │         <span style=\"color: #00af00; text-decoration-color: #00af00\">131,584</span> │\n",
              "├──────────────────────────────────────┼─────────────────────────────┼─────────────────┤\n",
              "│ dropout_1 (<span style=\"color: #0087ff; text-decoration-color: #0087ff\">Dropout</span>)                  │ (<span style=\"color: #00d7ff; text-decoration-color: #00d7ff\">None</span>, <span style=\"color: #00af00; text-decoration-color: #00af00\">128</span>)                 │               <span style=\"color: #00af00; text-decoration-color: #00af00\">0</span> │\n",
              "├──────────────────────────────────────┼─────────────────────────────┼─────────────────┤\n",
              "│ dense_1 (<span style=\"color: #0087ff; text-decoration-color: #0087ff\">Dense</span>)                      │ (<span style=\"color: #00d7ff; text-decoration-color: #00d7ff\">None</span>, <span style=\"color: #00af00; text-decoration-color: #00af00\">4</span>)                   │             <span style=\"color: #00af00; text-decoration-color: #00af00\">516</span> │\n",
              "└──────────────────────────────────────┴─────────────────────────────┴─────────────────┘\n",
              "</pre>\n"
            ]
          },
          "metadata": {}
        },
        {
          "output_type": "display_data",
          "data": {
            "text/plain": [
              "\u001b[1m Total params: \u001b[0m\u001b[38;5;34m1,412,100\u001b[0m (5.39 MB)\n"
            ],
            "text/html": [
              "<pre style=\"white-space:pre;overflow-x:auto;line-height:normal;font-family:Menlo,'DejaVu Sans Mono',consolas,'Courier New',monospace\"><span style=\"font-weight: bold\"> Total params: </span><span style=\"color: #00af00; text-decoration-color: #00af00\">1,412,100</span> (5.39 MB)\n",
              "</pre>\n"
            ]
          },
          "metadata": {}
        },
        {
          "output_type": "display_data",
          "data": {
            "text/plain": [
              "\u001b[1m Trainable params: \u001b[0m\u001b[38;5;34m1,412,100\u001b[0m (5.39 MB)\n"
            ],
            "text/html": [
              "<pre style=\"white-space:pre;overflow-x:auto;line-height:normal;font-family:Menlo,'DejaVu Sans Mono',consolas,'Courier New',monospace\"><span style=\"font-weight: bold\"> Trainable params: </span><span style=\"color: #00af00; text-decoration-color: #00af00\">1,412,100</span> (5.39 MB)\n",
              "</pre>\n"
            ]
          },
          "metadata": {}
        },
        {
          "output_type": "display_data",
          "data": {
            "text/plain": [
              "\u001b[1m Non-trainable params: \u001b[0m\u001b[38;5;34m0\u001b[0m (0.00 B)\n"
            ],
            "text/html": [
              "<pre style=\"white-space:pre;overflow-x:auto;line-height:normal;font-family:Menlo,'DejaVu Sans Mono',consolas,'Courier New',monospace\"><span style=\"font-weight: bold\"> Non-trainable params: </span><span style=\"color: #00af00; text-decoration-color: #00af00\">0</span> (0.00 B)\n",
              "</pre>\n"
            ]
          },
          "metadata": {}
        }
      ]
    },
    {
      "cell_type": "markdown",
      "source": [
        "#Train the LSTM Model"
      ],
      "metadata": {
        "id": "ev5h_zc8fpB1"
      }
    },
    {
      "cell_type": "code",
      "source": [
        "# Train the model with 5 epochs\n",
        "history = model.fit(\n",
        "    X_train, y_train,\n",
        "    validation_split=0.2,\n",
        "    epochs=10,\n",
        "    batch_size=32,\n",
        "    verbose=1\n",
        ")\n"
      ],
      "metadata": {
        "colab": {
          "base_uri": "https://localhost:8080/"
        },
        "id": "rnzpN5n1fqG6",
        "outputId": "ce63dfbc-12bc-43f6-b4ea-328c25bdc239"
      },
      "execution_count": 36,
      "outputs": [
        {
          "output_type": "stream",
          "name": "stdout",
          "text": [
            "Epoch 1/10\n",
            "\u001b[1m182/182\u001b[0m \u001b[32m━━━━━━━━━━━━━━━━━━━━\u001b[0m\u001b[37m\u001b[0m \u001b[1m40s\u001b[0m 209ms/step - accuracy: 0.5689 - loss: 0.9876 - val_accuracy: 0.6082 - val_loss: 0.8996\n",
            "Epoch 2/10\n",
            "\u001b[1m182/182\u001b[0m \u001b[32m━━━━━━━━━━━━━━━━━━━━\u001b[0m\u001b[37m\u001b[0m \u001b[1m41s\u001b[0m 209ms/step - accuracy: 0.5891 - loss: 0.9483 - val_accuracy: 0.6082 - val_loss: 0.8882\n",
            "Epoch 3/10\n",
            "\u001b[1m182/182\u001b[0m \u001b[32m━━━━━━━━━━━━━━━━━━━━\u001b[0m\u001b[37m\u001b[0m \u001b[1m40s\u001b[0m 220ms/step - accuracy: 0.5765 - loss: 0.9494 - val_accuracy: 0.6082 - val_loss: 0.8950\n",
            "Epoch 4/10\n",
            "\u001b[1m182/182\u001b[0m \u001b[32m━━━━━━━━━━━━━━━━━━━━\u001b[0m\u001b[37m\u001b[0m \u001b[1m38s\u001b[0m 206ms/step - accuracy: 0.5853 - loss: 0.9396 - val_accuracy: 0.6082 - val_loss: 0.8910\n",
            "Epoch 5/10\n",
            "\u001b[1m182/182\u001b[0m \u001b[32m━━━━━━━━━━━━━━━━━━━━\u001b[0m\u001b[37m\u001b[0m \u001b[1m40s\u001b[0m 202ms/step - accuracy: 0.6003 - loss: 0.9232 - val_accuracy: 0.6082 - val_loss: 0.9040\n",
            "Epoch 6/10\n",
            "\u001b[1m182/182\u001b[0m \u001b[32m━━━━━━━━━━━━━━━━━━━━\u001b[0m\u001b[37m\u001b[0m \u001b[1m39s\u001b[0m 213ms/step - accuracy: 0.5849 - loss: 0.9318 - val_accuracy: 0.6082 - val_loss: 0.8888\n",
            "Epoch 7/10\n",
            "\u001b[1m182/182\u001b[0m \u001b[32m━━━━━━━━━━━━━━━━━━━━\u001b[0m\u001b[37m\u001b[0m \u001b[1m41s\u001b[0m 212ms/step - accuracy: 0.5837 - loss: 0.9491 - val_accuracy: 0.6082 - val_loss: 0.8898\n",
            "Epoch 8/10\n",
            "\u001b[1m182/182\u001b[0m \u001b[32m━━━━━━━━━━━━━━━━━━━━\u001b[0m\u001b[37m\u001b[0m \u001b[1m37s\u001b[0m 201ms/step - accuracy: 0.5854 - loss: 0.9392 - val_accuracy: 0.6082 - val_loss: 0.8910\n",
            "Epoch 9/10\n",
            "\u001b[1m182/182\u001b[0m \u001b[32m━━━━━━━━━━━━━━━━━━━━\u001b[0m\u001b[37m\u001b[0m \u001b[1m41s\u001b[0m 202ms/step - accuracy: 0.5884 - loss: 0.9336 - val_accuracy: 0.6082 - val_loss: 0.8892\n",
            "Epoch 10/10\n",
            "\u001b[1m182/182\u001b[0m \u001b[32m━━━━━━━━━━━━━━━━━━━━\u001b[0m\u001b[37m\u001b[0m \u001b[1m44s\u001b[0m 218ms/step - accuracy: 0.5919 - loss: 0.9294 - val_accuracy: 0.6082 - val_loss: 0.8912\n"
          ]
        }
      ]
    },
    {
      "cell_type": "markdown",
      "source": [
        "#Evaluate the Model on the Test Set"
      ],
      "metadata": {
        "id": "TPEWa4W0zwvo"
      }
    },
    {
      "cell_type": "code",
      "source": [
        "test_loss, test_accuracy = model.evaluate(X_test, y_test, verbose=1)\n",
        "print(f\"Test Loss: {test_loss}\")\n",
        "print(f\"Test Accuracy: {test_accuracy}\")"
      ],
      "metadata": {
        "colab": {
          "base_uri": "https://localhost:8080/"
        },
        "id": "6JpB1_SqzzC8",
        "outputId": "5d24d819-eb26-4d8f-9f86-509d844e4957"
      },
      "execution_count": 37,
      "outputs": [
        {
          "output_type": "stream",
          "name": "stdout",
          "text": [
            "\u001b[1m57/57\u001b[0m \u001b[32m━━━━━━━━━━━━━━━━━━━━\u001b[0m\u001b[37m\u001b[0m \u001b[1m5s\u001b[0m 81ms/step - accuracy: 0.5993 - loss: 0.9078\n",
            "Test Loss: 0.9204967021942139\n",
            "Test Accuracy: 0.5926333069801331\n"
          ]
        }
      ]
    },
    {
      "cell_type": "markdown",
      "source": [
        "#Visualize Training History"
      ],
      "metadata": {
        "id": "B3jAsV072e8w"
      }
    },
    {
      "cell_type": "code",
      "source": [
        "# Plot training and validation accuracy\n",
        "plt.plot(history.history['accuracy'], label='Training Accuracy')\n",
        "plt.plot(history.history['val_accuracy'], label='Validation Accuracy')\n",
        "plt.title('Accuracy over Epochs')\n",
        "plt.xlabel('Epochs')\n",
        "plt.ylabel('Accuracy')\n",
        "plt.legend()\n",
        "plt.show()"
      ],
      "metadata": {
        "colab": {
          "base_uri": "https://localhost:8080/",
          "height": 472
        },
        "id": "BkxOoDbI2dmZ",
        "outputId": "58e5b743-97bb-4fb3-80a1-51eefd232c22"
      },
      "execution_count": 38,
      "outputs": [
        {
          "output_type": "display_data",
          "data": {
            "text/plain": [
              "<Figure size 640x480 with 1 Axes>"
            ],
            "image/png": "[encoded data removed]"
          },
          "metadata": {}
        }
      ]
    },
    {
      "cell_type": "code",
      "source": [
        "# Plot training and validation loss\n",
        "plt.plot(history.history['loss'], label='Training Loss')\n",
        "plt.plot(history.history['val_loss'], label='Validation Loss')\n",
        "plt.title('Loss over Epochs')\n",
        "plt.xlabel('Epochs')\n",
        "plt.ylabel('Loss')\n",
        "plt.legend()\n",
        "plt.show()"
      ],
      "metadata": {
        "colab": {
          "base_uri": "https://localhost:8080/",
          "height": 472
        },
        "id": "DZTXaX6I3D3F",
        "outputId": "726eed19-9950-4a6b-8ebe-d3b12a42901a"
      },
      "execution_count": 39,
      "outputs": [
        {
          "output_type": "display_data",
          "data": {
            "text/plain": [
              "<Figure size 640x480 with 1 Axes>"
            ],
            "image/png": "[encoded data removed]"
          },
          "metadata": {}
        }
      ]
    },
    {
      "cell_type": "markdown",
      "source": [
        "#Observations"
      ],
      "metadata": {
        "id": "1PXIjILA3LOy"
      }
    },
    {
      "cell_type": "markdown",
      "source": [
        "\n",
        "\n",
        "1.   **Accuracy Plot:**\n",
        "\n",
        "\n",
        "*   Training accuracy shows improvement over epochs, stabilizing around 0.6.\n",
        "*   Validation accuracy remains flat, suggesting the model might not generalize well.\n",
        "\n",
        "\n",
        "2.   **Loss Plot:**\n",
        "\n",
        "\n",
        "*   Training loss decreases gradually, indicating the model is learning.\n",
        "*   Validation loss fluctuates, suggesting the model may not be learning the validation data well\n",
        "\n",
        "\n"
      ],
      "metadata": {
        "id": "18sPij5O4vlG"
      }
    },
    {
      "cell_type": "markdown",
      "source": [
        "#Hyperparameter Tuning"
      ],
      "metadata": {
        "id": "r4T_KidG503L"
      }
    },
    {
      "cell_type": "code",
      "source": [
        "from tensorflow.keras.optimizers import Adam\n",
        "from tensorflow.keras.callbacks import EarlyStopping"
      ],
      "metadata": {
        "id": "tkmcgLBv5zuE"
      },
      "execution_count": 42,
      "outputs": []
    },
    {
      "cell_type": "code",
      "source": [
        "# Define hyperparameter ranges\n",
        "lstm_units = [64, 128, 256]\n",
        "batch_sizes = [16, 32, 64]\n",
        "dropout_rates = [0.3, 0.5, 0.7]\n",
        "learning_rates = [0.001, 0.0005]"
      ],
      "metadata": {
        "id": "Vkr6WNCZ4kN_"
      },
      "execution_count": 43,
      "outputs": []
    },
    {
      "cell_type": "code",
      "source": [
        "early_stopping = EarlyStopping(monitor='val_loss', patience=3, restore_best_weights=True)\n"
      ],
      "metadata": {
        "id": "hj7RYtJF5-wM"
      },
      "execution_count": 44,
      "outputs": []
    },
    {
      "cell_type": "code",
      "source": [
        "results = []"
      ],
      "metadata": {
        "id": "QnmW6r046DjH"
      },
      "execution_count": 45,
      "outputs": []
    },
    {
      "cell_type": "code",
      "source": [
        "# Hyperparameter tuning loop\n",
        "for units in lstm_units:\n",
        "    for batch_size in batch_sizes:\n",
        "        for dropout_rate in dropout_rates:\n",
        "            for lr in learning_rates:\n",
        "                print(f\"Testing with LSTM units={units}, batch_size={batch_size}, dropout_rate={dropout_rate}, learning_rate={lr}\")\n",
        "\n",
        "                # Build model\n",
        "                model = Sequential([\n",
        "                    Embedding(input_dim=10000, output_dim=128, input_length=100),\n",
        "                    LSTM(units),\n",
        "                    Dropout(dropout_rate),\n",
        "                    Dense(4, activation='softmax')\n",
        "                ])\n",
        "                # Compile model with the current learning rate\n",
        "                optimizer = Adam(learning_rate=lr)\n",
        "                model.compile(optimizer=optimizer, loss='sparse_categorical_crossentropy', metrics=['accuracy'])\n",
        "\n",
        "                # Train model\n",
        "                history = model.fit(\n",
        "                    X_train, y_train,\n",
        "                    validation_split=0.2,\n",
        "                    epochs=10,\n",
        "                    batch_size=batch_size,\n",
        "                    callbacks=[early_stopping],\n",
        "                    verbose=1\n",
        "                    )\n",
        "\n",
        "                # Evaluate model\n",
        "                loss, accuracy = model.evaluate(X_test, y_test, verbose=0)\n",
        "                print(f\"Test Loss: {loss}, Test Accuracy: {accuracy}\\n\")\n",
        "\n",
        "                # Save results\n",
        "                results.append({\n",
        "                    'units': units,\n",
        "                    'batch_size': batch_size,\n",
        "                    'dropout_rate': dropout_rate,\n",
        "                    'learning_rate': lr,\n",
        "                    'test_loss': loss,\n",
        "                    'test_accuracy': accuracy\n",
        "                })\n",
        "\n",
        "\n"
      ],
      "metadata": {
        "colab": {
          "base_uri": "https://localhost:8080/",
          "height": 1000
        },
        "id": "VFGPelA46EUp",
        "outputId": "26c2f128-b9ca-4845-942e-fdb7f8ef01b4"
      },
      "execution_count": 47,
      "outputs": [
        {
          "output_type": "stream",
          "name": "stdout",
          "text": [
            "Testing with LSTM units=64, batch_size=16, dropout_rate=0.3, learning_rate=0.001\n",
            "Epoch 1/10\n"
          ]
        },
        {
          "output_type": "stream",
          "name": "stderr",
          "text": [
            "/usr/local/lib/python3.11/dist-packages/keras/src/layers/core/embedding.py:90: UserWarning: Argument `input_length` is deprecated. Just remove it.\n",
            "  warnings.warn(\n"
          ]
        },
        {
          "output_type": "stream",
          "name": "stdout",
          "text": [
            "\u001b[1m364/364\u001b[0m \u001b[32m━━━━━━━━━━━━━━━━━━━━\u001b[0m\u001b[37m\u001b[0m \u001b[1m33s\u001b[0m 78ms/step - accuracy: 0.5685 - loss: 0.9787 - val_accuracy: 0.6082 - val_loss: 0.8871\n",
            "Epoch 2/10\n",
            "\u001b[1m364/364\u001b[0m \u001b[32m━━━━━━━━━━━━━━━━━━━━\u001b[0m\u001b[37m\u001b[0m \u001b[1m29s\u001b[0m 80ms/step - accuracy: 0.5938 - loss: 0.9330 - val_accuracy: 0.6082 - val_loss: 0.8965\n",
            "Epoch 3/10\n",
            "\u001b[1m364/364\u001b[0m \u001b[32m━━━━━━━━━━━━━━━━━━━━\u001b[0m\u001b[37m\u001b[0m \u001b[1m40s\u001b[0m 77ms/step - accuracy: 0.5850 - loss: 0.9423 - val_accuracy: 0.6082 - val_loss: 0.8902\n",
            "Epoch 4/10\n",
            "\u001b[1m364/364\u001b[0m \u001b[32m━━━━━━━━━━━━━━━━━━━━\u001b[0m\u001b[37m\u001b[0m \u001b[1m28s\u001b[0m 77ms/step - accuracy: 0.5936 - loss: 0.9226 - val_accuracy: 0.6082 - val_loss: 0.8939\n",
            "Test Loss: 0.9224043488502502, Test Accuracy: 0.5926333069801331\n",
            "\n",
            "Testing with LSTM units=64, batch_size=16, dropout_rate=0.3, learning_rate=0.0005\n",
            "Epoch 1/10\n",
            "\u001b[1m364/364\u001b[0m \u001b[32m━━━━━━━━━━━━━━━━━━━━\u001b[0m\u001b[37m\u001b[0m \u001b[1m30s\u001b[0m 75ms/step - accuracy: 0.5655 - loss: 1.0070 - val_accuracy: 0.6082 - val_loss: 0.8901\n",
            "Epoch 2/10\n",
            "\u001b[1m364/364\u001b[0m \u001b[32m━━━━━━━━━━━━━━━━━━━━\u001b[0m\u001b[37m\u001b[0m \u001b[1m42s\u001b[0m 77ms/step - accuracy: 0.5991 - loss: 0.9164 - val_accuracy: 0.6082 - val_loss: 0.8964\n",
            "Epoch 3/10\n",
            "\u001b[1m364/364\u001b[0m \u001b[32m━━━━━━━━━━━━━━━━━━━━\u001b[0m\u001b[37m\u001b[0m \u001b[1m42s\u001b[0m 80ms/step - accuracy: 0.5904 - loss: 0.9361 - val_accuracy: 0.6082 - val_loss: 0.8941\n",
            "Test Loss: 0.9196875095367432, Test Accuracy: 0.5926333069801331\n",
            "\n",
            "Testing with LSTM units=64, batch_size=16, dropout_rate=0.5, learning_rate=0.001\n",
            "Epoch 1/10\n",
            "\u001b[1m364/364\u001b[0m \u001b[32m━━━━━━━━━━━━━━━━━━━━\u001b[0m\u001b[37m\u001b[0m \u001b[1m32s\u001b[0m 77ms/step - accuracy: 0.5622 - loss: 0.9958 - val_accuracy: 0.6082 - val_loss: 0.8918\n",
            "Epoch 2/10\n",
            "\u001b[1m364/364\u001b[0m \u001b[32m━━━━━━━━━━━━━━━━━━━━\u001b[0m\u001b[37m\u001b[0m \u001b[1m27s\u001b[0m 75ms/step - accuracy: 0.5807 - loss: 0.9541 - val_accuracy: 0.6082 - val_loss: 0.8883\n",
            "Epoch 3/10\n",
            "\u001b[1m364/364\u001b[0m \u001b[32m━━━━━━━━━━━━━━━━━━━━\u001b[0m\u001b[37m\u001b[0m \u001b[1m41s\u001b[0m 76ms/step - accuracy: 0.5831 - loss: 0.9457 - val_accuracy: 0.6082 - val_loss: 0.8879\n",
            "Test Loss: 0.9198482632637024, Test Accuracy: 0.5926333069801331\n",
            "\n",
            "Testing with LSTM units=64, batch_size=16, dropout_rate=0.5, learning_rate=0.0005\n",
            "Epoch 1/10\n",
            "\u001b[1m364/364\u001b[0m \u001b[32m━━━━━━━━━━━━━━━━━━━━\u001b[0m\u001b[37m\u001b[0m \u001b[1m31s\u001b[0m 78ms/step - accuracy: 0.5482 - loss: 1.0040 - val_accuracy: 0.6082 - val_loss: 0.8927\n",
            "Epoch 2/10\n",
            "\u001b[1m364/364\u001b[0m \u001b[32m━━━━━━━━━━━━━━━━━━━━\u001b[0m\u001b[37m\u001b[0m \u001b[1m40s\u001b[0m 76ms/step - accuracy: 0.5771 - loss: 0.9617 - val_accuracy: 0.6082 - val_loss: 0.8889\n",
            "Epoch 3/10\n",
            "\u001b[1m364/364\u001b[0m \u001b[32m━━━━━━━━━━━━━━━━━━━━\u001b[0m\u001b[37m\u001b[0m \u001b[1m41s\u001b[0m 75ms/step - accuracy: 0.5808 - loss: 0.9297 - val_accuracy: 0.6082 - val_loss: 0.8976\n",
            "Test Loss: 0.9211536645889282, Test Accuracy: 0.5926333069801331\n",
            "\n",
            "Testing with LSTM units=64, batch_size=16, dropout_rate=0.7, learning_rate=0.001\n",
            "Epoch 1/10\n",
            "\u001b[1m364/364\u001b[0m \u001b[32m━━━━━━━━━━━━━━━━━━━━\u001b[0m\u001b[37m\u001b[0m \u001b[1m31s\u001b[0m 77ms/step - accuracy: 0.5577 - loss: 1.0223 - val_accuracy: 0.6082 - val_loss: 0.8950\n",
            "Epoch 2/10\n",
            "\u001b[1m364/364\u001b[0m \u001b[32m━━━━━━━━━━━━━━━━━━━━\u001b[0m\u001b[37m\u001b[0m \u001b[1m28s\u001b[0m 77ms/step - accuracy: 0.5779 - loss: 0.9570 - val_accuracy: 0.6082 - val_loss: 0.8915\n",
            "Epoch 3/10\n",
            "\u001b[1m364/364\u001b[0m \u001b[32m━━━━━━━━━━━━━━━━━━━━\u001b[0m\u001b[37m\u001b[0m \u001b[1m28s\u001b[0m 76ms/step - accuracy: 0.5980 - loss: 0.9306 - val_accuracy: 0.6082 - val_loss: 0.9048\n",
            "Test Loss: 0.9208396077156067, Test Accuracy: 0.5926333069801331\n",
            "\n",
            "Testing with LSTM units=64, batch_size=16, dropout_rate=0.7, learning_rate=0.0005\n",
            "Epoch 1/10\n",
            "\u001b[1m364/364\u001b[0m \u001b[32m━━━━━━━━━━━━━━━━━━━━\u001b[0m\u001b[37m\u001b[0m \u001b[1m35s\u001b[0m 84ms/step - accuracy: 0.5197 - loss: 1.0578 - val_accuracy: 0.6082 - val_loss: 0.8877\n",
            "Epoch 2/10\n",
            "\u001b[1m364/364\u001b[0m \u001b[32m━━━━━━━━━━━━━━━━━━━━\u001b[0m\u001b[37m\u001b[0m \u001b[1m30s\u001b[0m 82ms/step - accuracy: 0.5713 - loss: 0.9739 - val_accuracy: 0.6082 - val_loss: 0.8924\n",
            "Epoch 3/10\n",
            "\u001b[1m364/364\u001b[0m \u001b[32m━━━━━━━━━━━━━━━━━━━━\u001b[0m\u001b[37m\u001b[0m \u001b[1m41s\u001b[0m 83ms/step - accuracy: 0.5859 - loss: 0.9523 - val_accuracy: 0.6082 - val_loss: 0.8932\n",
            "Test Loss: 0.9189419746398926, Test Accuracy: 0.5926333069801331\n",
            "\n",
            "Testing with LSTM units=64, batch_size=32, dropout_rate=0.3, learning_rate=0.001\n",
            "Epoch 1/10\n",
            "\u001b[1m182/182\u001b[0m \u001b[32m━━━━━━━━━━━━━━━━━━━━\u001b[0m\u001b[37m\u001b[0m \u001b[1m23s\u001b[0m 110ms/step - accuracy: 0.5476 - loss: 1.0029 - val_accuracy: 0.6082 - val_loss: 0.8901\n",
            "Epoch 2/10\n",
            "\u001b[1m182/182\u001b[0m \u001b[32m━━━━━━━━━━━━━━━━━━━━\u001b[0m\u001b[37m\u001b[0m \u001b[1m18s\u001b[0m 95ms/step - accuracy: 0.5929 - loss: 0.9263 - val_accuracy: 0.6082 - val_loss: 0.8875\n",
            "Epoch 3/10\n",
            "\u001b[1m182/182\u001b[0m \u001b[32m━━━━━━━━━━━━━━━━━━━━\u001b[0m\u001b[37m\u001b[0m \u001b[1m17s\u001b[0m 95ms/step - accuracy: 0.5860 - loss: 0.9316 - val_accuracy: 0.6082 - val_loss: 0.8976\n",
            "Test Loss: 0.9199048280715942, Test Accuracy: 0.5926333069801331\n",
            "\n",
            "Testing with LSTM units=64, batch_size=32, dropout_rate=0.3, learning_rate=0.0005\n",
            "Epoch 1/10\n",
            "\u001b[1m182/182\u001b[0m \u001b[32m━━━━━━━━━━━━━━━━━━━━\u001b[0m\u001b[37m\u001b[0m \u001b[1m21s\u001b[0m 96ms/step - accuracy: 0.5466 - loss: 1.0411 - val_accuracy: 0.6082 - val_loss: 0.8968\n",
            "Epoch 2/10\n",
            "\u001b[1m182/182\u001b[0m \u001b[32m━━━━━━━━━━━━━━━━━━━━\u001b[0m\u001b[37m\u001b[0m \u001b[1m18s\u001b[0m 99ms/step - accuracy: 0.5838 - loss: 0.9494 - val_accuracy: 0.6082 - val_loss: 0.8943\n",
            "Epoch 3/10\n",
            "\u001b[1m182/182\u001b[0m \u001b[32m━━━━━━━━━━━━━━━━━━━━\u001b[0m\u001b[37m\u001b[0m \u001b[1m16s\u001b[0m 89ms/step - accuracy: 0.5996 - loss: 0.9330 - val_accuracy: 0.6082 - val_loss: 0.8931\n",
            "Test Loss: 0.9226243495941162, Test Accuracy: 0.5926333069801331\n",
            "\n",
            "Testing with LSTM units=64, batch_size=32, dropout_rate=0.5, learning_rate=0.001\n",
            "Epoch 1/10\n",
            "\u001b[1m182/182\u001b[0m \u001b[32m━━━━━━━━━━━━━━━━━━━━\u001b[0m\u001b[37m\u001b[0m \u001b[1m20s\u001b[0m 93ms/step - accuracy: 0.5649 - loss: 1.0182 - val_accuracy: 0.6082 - val_loss: 0.8997\n",
            "Epoch 2/10\n",
            "\u001b[1m182/182\u001b[0m \u001b[32m━━━━━━━━━━━━━━━━━━━━\u001b[0m\u001b[37m\u001b[0m \u001b[1m20s\u001b[0m 88ms/step - accuracy: 0.5815 - loss: 0.9502 - val_accuracy: 0.6082 - val_loss: 0.8948\n",
            "Epoch 3/10\n",
            "\u001b[1m182/182\u001b[0m \u001b[32m━━━━━━━━━━━━━━━━━━━━\u001b[0m\u001b[37m\u001b[0m \u001b[1m21s\u001b[0m 89ms/step - accuracy: 0.5913 - loss: 0.9397 - val_accuracy: 0.6082 - val_loss: 0.8894\n",
            "Test Loss: 0.927087128162384, Test Accuracy: 0.5926333069801331\n",
            "\n",
            "Testing with LSTM units=64, batch_size=32, dropout_rate=0.5, learning_rate=0.0005\n",
            "Epoch 1/10\n",
            "\u001b[1m182/182\u001b[0m \u001b[32m━━━━━━━━━━━━━━━━━━━━\u001b[0m\u001b[37m\u001b[0m \u001b[1m19s\u001b[0m 89ms/step - accuracy: 0.5635 - loss: 1.0433 - val_accuracy: 0.6082 - val_loss: 0.8953\n",
            "Epoch 2/10\n",
            "\u001b[1m182/182\u001b[0m \u001b[32m━━━━━━━━━━━━━━━━━━━━\u001b[0m\u001b[37m\u001b[0m \u001b[1m16s\u001b[0m 86ms/step - accuracy: 0.5809 - loss: 0.9395 - val_accuracy: 0.6082 - val_loss: 0.8914\n",
            "Epoch 3/10\n",
            "\u001b[1m182/182\u001b[0m \u001b[32m━━━━━━━━━━━━━━━━━━━━\u001b[0m\u001b[37m\u001b[0m \u001b[1m20s\u001b[0m 86ms/step - accuracy: 0.5809 - loss: 0.9444 - val_accuracy: 0.6082 - val_loss: 0.8892\n",
            "Test Loss: 0.921647846698761, Test Accuracy: 0.5926333069801331\n",
            "\n",
            "Testing with LSTM units=64, batch_size=32, dropout_rate=0.7, learning_rate=0.001\n",
            "Epoch 1/10\n",
            "\u001b[1m182/182\u001b[0m \u001b[32m━━━━━━━━━━━━━━━━━━━━\u001b[0m\u001b[37m\u001b[0m \u001b[1m19s\u001b[0m 90ms/step - accuracy: 0.5594 - loss: 1.0323 - val_accuracy: 0.6082 - val_loss: 0.8869\n",
            "Epoch 2/10\n",
            "\u001b[1m182/182\u001b[0m \u001b[32m━━━━━━━━━━━━━━━━━━━━\u001b[0m\u001b[37m\u001b[0m \u001b[1m17s\u001b[0m 92ms/step - accuracy: 0.5659 - loss: 0.9788 - val_accuracy: 0.6082 - val_loss: 0.8884\n",
            "Epoch 3/10\n",
            "\u001b[1m182/182\u001b[0m \u001b[32m━━━━━━━━━━━━━━━━━━━━\u001b[0m\u001b[37m\u001b[0m \u001b[1m20s\u001b[0m 89ms/step - accuracy: 0.5946 - loss: 0.9374 - val_accuracy: 0.6082 - val_loss: 0.8945\n",
            "Epoch 4/10\n",
            "\u001b[1m182/182\u001b[0m \u001b[32m━━━━━━━━━━━━━━━━━━━━\u001b[0m\u001b[37m\u001b[0m \u001b[1m21s\u001b[0m 91ms/step - accuracy: 0.5892 - loss: 0.9461 - val_accuracy: 0.6082 - val_loss: 0.8932\n",
            "Test Loss: 0.9221752882003784, Test Accuracy: 0.5926333069801331\n",
            "\n",
            "Testing with LSTM units=64, batch_size=32, dropout_rate=0.7, learning_rate=0.0005\n",
            "Epoch 1/10\n",
            "\u001b[1m182/182\u001b[0m \u001b[32m━━━━━━━━━━━━━━━━━━━━\u001b[0m\u001b[37m\u001b[0m \u001b[1m24s\u001b[0m 110ms/step - accuracy: 0.5437 - loss: 1.0627 - val_accuracy: 0.6082 - val_loss: 0.8924\n",
            "Epoch 2/10\n",
            "\u001b[1m182/182\u001b[0m \u001b[32m━━━━━━━━━━━━━━━━━━━━\u001b[0m\u001b[37m\u001b[0m \u001b[1m18s\u001b[0m 96ms/step - accuracy: 0.5867 - loss: 0.9748 - val_accuracy: 0.6082 - val_loss: 0.8938\n",
            "Epoch 3/10\n",
            "\u001b[1m182/182\u001b[0m \u001b[32m━━━━━━━━━━━━━━━━━━━━\u001b[0m\u001b[37m\u001b[0m \u001b[1m18s\u001b[0m 96ms/step - accuracy: 0.5815 - loss: 0.9596 - val_accuracy: 0.6082 - val_loss: 0.8931\n",
            "Test Loss: 0.9214087128639221, Test Accuracy: 0.5926333069801331\n",
            "\n",
            "Testing with LSTM units=64, batch_size=64, dropout_rate=0.3, learning_rate=0.001\n",
            "Epoch 1/10\n",
            "\u001b[1m91/91\u001b[0m \u001b[32m━━━━━━━━━━━━━━━━━━━━\u001b[0m\u001b[37m\u001b[0m \u001b[1m20s\u001b[0m 174ms/step - accuracy: 0.5579 - loss: 1.0174 - val_accuracy: 0.6082 - val_loss: 0.8883\n",
            "Epoch 2/10\n",
            "\u001b[1m91/91\u001b[0m \u001b[32m━━━━━━━━━━━━━━━━━━━━\u001b[0m\u001b[37m\u001b[0m \u001b[1m15s\u001b[0m 170ms/step - accuracy: 0.5865 - loss: 0.9344 - val_accuracy: 0.6082 - val_loss: 0.8981\n",
            "Epoch 3/10\n",
            "\u001b[1m91/91\u001b[0m \u001b[32m━━━━━━━━━━━━━━━━━━━━\u001b[0m\u001b[37m\u001b[0m \u001b[1m20s\u001b[0m 167ms/step - accuracy: 0.5876 - loss: 0.9348 - val_accuracy: 0.6082 - val_loss: 0.8882\n",
            "Test Loss: 0.9194304943084717, Test Accuracy: 0.5926333069801331\n",
            "\n",
            "Testing with LSTM units=64, batch_size=64, dropout_rate=0.3, learning_rate=0.0005\n",
            "Epoch 1/10\n",
            "\u001b[1m91/91\u001b[0m \u001b[32m━━━━━━━━━━━━━━━━━━━━\u001b[0m\u001b[37m\u001b[0m \u001b[1m18s\u001b[0m 166ms/step - accuracy: 0.5747 - loss: 1.0542 - val_accuracy: 0.6082 - val_loss: 0.8897\n",
            "Epoch 2/10\n",
            "\u001b[1m91/91\u001b[0m \u001b[32m━━━━━━━━━━━━━━━━━━━━\u001b[0m\u001b[37m\u001b[0m \u001b[1m15s\u001b[0m 165ms/step - accuracy: 0.5915 - loss: 0.9360 - val_accuracy: 0.6082 - val_loss: 0.8926\n",
            "Epoch 3/10\n",
            "\u001b[1m91/91\u001b[0m \u001b[32m━━━━━━━━━━━━━━━━━━━━\u001b[0m\u001b[37m\u001b[0m \u001b[1m20s\u001b[0m 165ms/step - accuracy: 0.5918 - loss: 0.9321 - val_accuracy: 0.6082 - val_loss: 0.8877\n",
            "Test Loss: 0.9189051389694214, Test Accuracy: 0.5926333069801331\n",
            "\n",
            "Testing with LSTM units=64, batch_size=64, dropout_rate=0.5, learning_rate=0.001\n",
            "Epoch 1/10\n",
            "\u001b[1m91/91\u001b[0m \u001b[32m━━━━━━━━━━━━━━━━━━━━\u001b[0m\u001b[37m\u001b[0m \u001b[1m19s\u001b[0m 169ms/step - accuracy: 0.5472 - loss: 1.0327 - val_accuracy: 0.6082 - val_loss: 0.8911\n",
            "Epoch 2/10\n",
            "\u001b[1m91/91\u001b[0m \u001b[32m━━━━━━━━━━━━━━━━━━━━\u001b[0m\u001b[37m\u001b[0m \u001b[1m19s\u001b[0m 159ms/step - accuracy: 0.5763 - loss: 0.9509 - val_accuracy: 0.6082 - val_loss: 0.8918\n",
            "Epoch 3/10\n",
            "\u001b[1m91/91\u001b[0m \u001b[32m━━━━━━━━━━━━━━━━━━━━\u001b[0m\u001b[37m\u001b[0m \u001b[1m22s\u001b[0m 170ms/step - accuracy: 0.5922 - loss: 0.9479 - val_accuracy: 0.6082 - val_loss: 0.8910\n",
            "Test Loss: 0.9221859574317932, Test Accuracy: 0.5926333069801331\n",
            "\n",
            "Testing with LSTM units=64, batch_size=64, dropout_rate=0.5, learning_rate=0.0005\n",
            "Epoch 1/10\n",
            "\u001b[1m91/91\u001b[0m \u001b[32m━━━━━━━━━━━━━━━━━━━━\u001b[0m\u001b[37m\u001b[0m \u001b[1m17s\u001b[0m 161ms/step - accuracy: 0.5591 - loss: 1.0775 - val_accuracy: 0.6082 - val_loss: 0.8920\n",
            "Epoch 2/10\n",
            "\u001b[1m91/91\u001b[0m \u001b[32m━━━━━━━━━━━━━━━━━━━━\u001b[0m\u001b[37m\u001b[0m \u001b[1m16s\u001b[0m 177ms/step - accuracy: 0.5860 - loss: 0.9380 - val_accuracy: 0.6082 - val_loss: 0.8939\n",
            "Epoch 3/10\n",
            "\u001b[1m91/91\u001b[0m \u001b[32m━━━━━━━━━━━━━━━━━━━━\u001b[0m\u001b[37m\u001b[0m \u001b[1m21s\u001b[0m 180ms/step - accuracy: 0.5983 - loss: 0.9381 - val_accuracy: 0.6082 - val_loss: 0.9066\n",
            "Test Loss: 0.9210560321807861, Test Accuracy: 0.5926333069801331\n",
            "\n",
            "Testing with LSTM units=64, batch_size=64, dropout_rate=0.7, learning_rate=0.001\n",
            "Epoch 1/10\n",
            "\u001b[1m91/91\u001b[0m \u001b[32m━━━━━━━━━━━━━━━━━━━━\u001b[0m\u001b[37m\u001b[0m \u001b[1m18s\u001b[0m 171ms/step - accuracy: 0.4953 - loss: 1.0946 - val_accuracy: 0.6082 - val_loss: 0.8943\n",
            "Epoch 2/10\n",
            "\u001b[1m91/91\u001b[0m \u001b[32m━━━━━━━━━━━━━━━━━━━━\u001b[0m\u001b[37m\u001b[0m \u001b[1m16s\u001b[0m 171ms/step - accuracy: 0.5760 - loss: 0.9577 - val_accuracy: 0.6082 - val_loss: 0.8889\n",
            "Epoch 3/10\n",
            "\u001b[1m91/91\u001b[0m \u001b[32m━━━━━━━━━━━━━━━━━━━━\u001b[0m\u001b[37m\u001b[0m \u001b[1m19s\u001b[0m 161ms/step - accuracy: 0.5742 - loss: 0.9515 - val_accuracy: 0.6082 - val_loss: 0.8891\n",
            "Test Loss: 0.9233812689781189, Test Accuracy: 0.5926333069801331\n",
            "\n",
            "Testing with LSTM units=64, batch_size=64, dropout_rate=0.7, learning_rate=0.0005\n",
            "Epoch 1/10\n",
            "\u001b[1m91/91\u001b[0m \u001b[32m━━━━━━━━━━━━━━━━━━━━\u001b[0m\u001b[37m\u001b[0m \u001b[1m18s\u001b[0m 164ms/step - accuracy: 0.5550 - loss: 1.1162 - val_accuracy: 0.6082 - val_loss: 0.8910\n",
            "Epoch 2/10\n",
            "\u001b[1m91/91\u001b[0m \u001b[32m━━━━━━━━━━━━━━━━━━━━\u001b[0m\u001b[37m\u001b[0m \u001b[1m15s\u001b[0m 164ms/step - accuracy: 0.5687 - loss: 0.9694 - val_accuracy: 0.6082 - val_loss: 0.8906\n",
            "Epoch 3/10\n",
            "\u001b[1m91/91\u001b[0m \u001b[32m━━━━━━━━━━━━━━━━━━━━\u001b[0m\u001b[37m\u001b[0m \u001b[1m20s\u001b[0m 163ms/step - accuracy: 0.5708 - loss: 0.9647 - val_accuracy: 0.6082 - val_loss: 0.8905\n",
            "Test Loss: 0.9244858026504517, Test Accuracy: 0.5926333069801331\n",
            "\n",
            "Testing with LSTM units=128, batch_size=16, dropout_rate=0.3, learning_rate=0.001\n",
            "Epoch 1/10\n",
            "\u001b[1m364/364\u001b[0m \u001b[32m━━━━━━━━━━━━━━━━━━━━\u001b[0m\u001b[37m\u001b[0m \u001b[1m47s\u001b[0m 119ms/step - accuracy: 0.5599 - loss: 0.9872 - val_accuracy: 0.6082 - val_loss: 0.8945\n",
            "Epoch 2/10\n",
            "\u001b[1m364/364\u001b[0m \u001b[32m━━━━━━━━━━━━━━━━━━━━\u001b[0m\u001b[37m\u001b[0m \u001b[1m43s\u001b[0m 117ms/step - accuracy: 0.5885 - loss: 0.9481 - val_accuracy: 0.6082 - val_loss: 0.8910\n",
            "Epoch 3/10\n",
            "\u001b[1m364/364\u001b[0m \u001b[32m━━━━━━━━━━━━━━━━━━━━\u001b[0m\u001b[37m\u001b[0m \u001b[1m82s\u001b[0m 116ms/step - accuracy: 0.5788 - loss: 0.9552 - val_accuracy: 0.6082 - val_loss: 0.8917\n",
            "Test Loss: 0.9271256327629089, Test Accuracy: 0.5926333069801331\n",
            "\n",
            "Testing with LSTM units=128, batch_size=16, dropout_rate=0.3, learning_rate=0.0005\n",
            "Epoch 1/10\n",
            "\u001b[1m364/364\u001b[0m \u001b[32m━━━━━━━━━━━━━━━━━━━━\u001b[0m\u001b[37m\u001b[0m \u001b[1m46s\u001b[0m 118ms/step - accuracy: 0.5810 - loss: 0.9860 - val_accuracy: 0.6082 - val_loss: 0.8906\n",
            "Epoch 2/10\n",
            "\u001b[1m364/364\u001b[0m \u001b[32m━━━━━━━━━━━━━━━━━━━━\u001b[0m\u001b[37m\u001b[0m \u001b[1m42s\u001b[0m 116ms/step - accuracy: 0.5924 - loss: 0.9263 - val_accuracy: 0.6082 - val_loss: 0.8942\n",
            "Epoch 3/10\n",
            "\u001b[1m364/364\u001b[0m \u001b[32m━━━━━━━━━━━━━━━━━━━━\u001b[0m\u001b[37m\u001b[0m \u001b[1m42s\u001b[0m 115ms/step - accuracy: 0.5909 - loss: 0.9378 - val_accuracy: 0.6082 - val_loss: 0.8928\n",
            "Test Loss: 0.9193090796470642, Test Accuracy: 0.5926333069801331\n",
            "\n",
            "Testing with LSTM units=128, batch_size=16, dropout_rate=0.5, learning_rate=0.001\n",
            "Epoch 1/10\n",
            "\u001b[1m364/364\u001b[0m \u001b[32m━━━━━━━━━━━━━━━━━━━━\u001b[0m\u001b[37m\u001b[0m \u001b[1m44s\u001b[0m 113ms/step - accuracy: 0.5576 - loss: 0.9883 - val_accuracy: 0.6082 - val_loss: 0.8910\n",
            "Epoch 2/10\n",
            "\u001b[1m364/364\u001b[0m \u001b[32m━━━━━━━━━━━━━━━━━━━━\u001b[0m\u001b[37m\u001b[0m \u001b[1m82s\u001b[0m 115ms/step - accuracy: 0.5806 - loss: 0.9481 - val_accuracy: 0.6082 - val_loss: 0.8955\n",
            "Epoch 3/10\n",
            "\u001b[1m364/364\u001b[0m \u001b[32m━━━━━━━━━━━━━━━━━━━━\u001b[0m\u001b[37m\u001b[0m \u001b[1m82s\u001b[0m 114ms/step - accuracy: 0.5950 - loss: 0.9285 - val_accuracy: 0.6082 - val_loss: 0.8946\n",
            "Test Loss: 0.9251161813735962, Test Accuracy: 0.5926333069801331\n",
            "\n",
            "Testing with LSTM units=128, batch_size=16, dropout_rate=0.5, learning_rate=0.0005\n",
            "Epoch 1/10\n",
            "\u001b[1m364/364\u001b[0m \u001b[32m━━━━━━━━━━━━━━━━━━━━\u001b[0m\u001b[37m\u001b[0m \u001b[1m52s\u001b[0m 131ms/step - accuracy: 0.5662 - loss: 1.0026 - val_accuracy: 0.6082 - val_loss: 0.8887\n",
            "Epoch 2/10\n",
            "\u001b[1m364/364\u001b[0m \u001b[32m━━━━━━━━━━━━━━━━━━━━\u001b[0m\u001b[37m\u001b[0m \u001b[1m44s\u001b[0m 121ms/step - accuracy: 0.5876 - loss: 0.9583 - val_accuracy: 0.6082 - val_loss: 0.8967\n",
            "Epoch 3/10\n",
            "\u001b[1m364/364\u001b[0m \u001b[32m━━━━━━━━━━━━━━━━━━━━\u001b[0m\u001b[37m\u001b[0m \u001b[1m82s\u001b[0m 120ms/step - accuracy: 0.5832 - loss: 0.9482 - val_accuracy: 0.6082 - val_loss: 0.8959\n",
            "Test Loss: 0.9189425110816956, Test Accuracy: 0.5926333069801331\n",
            "\n",
            "Testing with LSTM units=128, batch_size=16, dropout_rate=0.7, learning_rate=0.001\n",
            "Epoch 1/10\n",
            "\u001b[1m364/364\u001b[0m \u001b[32m━━━━━━━━━━━━━━━━━━━━\u001b[0m\u001b[37m\u001b[0m \u001b[1m48s\u001b[0m 122ms/step - accuracy: 0.5684 - loss: 1.0073 - val_accuracy: 0.6082 - val_loss: 0.8941\n",
            "Epoch 2/10\n",
            "\u001b[1m364/364\u001b[0m \u001b[32m━━━━━━━━━━━━━━━━━━━━\u001b[0m\u001b[37m\u001b[0m \u001b[1m82s\u001b[0m 122ms/step - accuracy: 0.5851 - loss: 0.9634 - val_accuracy: 0.6082 - val_loss: 0.8923\n",
            "Epoch 3/10\n",
            "\u001b[1m364/364\u001b[0m \u001b[32m━━━━━━━━━━━━━━━━━━━━\u001b[0m\u001b[37m\u001b[0m \u001b[1m83s\u001b[0m 124ms/step - accuracy: 0.5946 - loss: 0.9413 - val_accuracy: 0.6082 - val_loss: 0.8925\n",
            "Test Loss: 0.926828920841217, Test Accuracy: 0.5926333069801331\n",
            "\n",
            "Testing with LSTM units=128, batch_size=16, dropout_rate=0.7, learning_rate=0.0005\n",
            "Epoch 1/10\n",
            "\u001b[1m364/364\u001b[0m \u001b[32m━━━━━━━━━━━━━━━━━━━━\u001b[0m\u001b[37m\u001b[0m \u001b[1m49s\u001b[0m 124ms/step - accuracy: 0.5486 - loss: 1.0109 - val_accuracy: 0.6082 - val_loss: 0.8948\n",
            "Epoch 2/10\n",
            "\u001b[1m364/364\u001b[0m \u001b[32m━━━━━━━━━━━━━━━━━━━━\u001b[0m\u001b[37m\u001b[0m \u001b[1m81s\u001b[0m 122ms/step - accuracy: 0.5863 - loss: 0.9535 - val_accuracy: 0.6082 - val_loss: 0.8890\n",
            "Epoch 3/10\n"
          ]
        },
        {
          "output_type": "error",
          "ename": "KeyboardInterrupt",
          "evalue": "",
          "traceback": [
            "\u001b[0;31m---------------------------------------------------------------------------\u001b[0m",
            "\u001b[0;31mKeyboardInterrupt\u001b[0m                         Traceback (most recent call last)",
            "\u001b[0;32m<ipython-input-47-28cb6a30b2cf>\u001b[0m in \u001b[0;36m<cell line: 0>\u001b[0;34m()\u001b[0m\n\u001b[1;32m     18\u001b[0m \u001b[0;34m\u001b[0m\u001b[0m\n\u001b[1;32m     19\u001b[0m                 \u001b[0;31m# Train model\u001b[0m\u001b[0;34m\u001b[0m\u001b[0;34m\u001b[0m\u001b[0m\n\u001b[0;32m---> 20\u001b[0;31m                 history = model.fit(\n\u001b[0m\u001b[1;32m     21\u001b[0m                     \u001b[0mX_train\u001b[0m\u001b[0;34m,\u001b[0m \u001b[0my_train\u001b[0m\u001b[0;34m,\u001b[0m\u001b[0;34m\u001b[0m\u001b[0;34m\u001b[0m\u001b[0m\n\u001b[1;32m     22\u001b[0m                     \u001b[0mvalidation_split\u001b[0m\u001b[0;34m=\u001b[0m\u001b[0;36m0.2\u001b[0m\u001b[0;34m,\u001b[0m\u001b[0;34m\u001b[0m\u001b[0;34m\u001b[0m\u001b[0m\n",
            "\u001b[0;32m/usr/local/lib/python3.11/dist-packages/keras/src/utils/traceback_utils.py\u001b[0m in \u001b[0;36merror_handler\u001b[0;34m(*args, **kwargs)\u001b[0m\n\u001b[1;32m    115\u001b[0m         \u001b[0mfiltered_tb\u001b[0m \u001b[0;34m=\u001b[0m \u001b[0;32mNone\u001b[0m\u001b[0;34m\u001b[0m\u001b[0;34m\u001b[0m\u001b[0m\n\u001b[1;32m    116\u001b[0m         \u001b[0;32mtry\u001b[0m\u001b[0;34m:\u001b[0m\u001b[0;34m\u001b[0m\u001b[0;34m\u001b[0m\u001b[0m\n\u001b[0;32m--> 117\u001b[0;31m             \u001b[0;32mreturn\u001b[0m \u001b[0mfn\u001b[0m\u001b[0;34m(\u001b[0m\u001b[0;34m*\u001b[0m\u001b[0margs\u001b[0m\u001b[0;34m,\u001b[0m \u001b[0;34m**\u001b[0m\u001b[0mkwargs\u001b[0m\u001b[0;34m)\u001b[0m\u001b[0;34m\u001b[0m\u001b[0;34m\u001b[0m\u001b[0m\n\u001b[0m\u001b[1;32m    118\u001b[0m         \u001b[0;32mexcept\u001b[0m \u001b[0mException\u001b[0m \u001b[0;32mas\u001b[0m \u001b[0me\u001b[0m\u001b[0;34m:\u001b[0m\u001b[0;34m\u001b[0m\u001b[0;34m\u001b[0m\u001b[0m\n\u001b[1;32m    119\u001b[0m             \u001b[0mfiltered_tb\u001b[0m \u001b[0;34m=\u001b[0m \u001b[0m_process_traceback_frames\u001b[0m\u001b[0;34m(\u001b[0m\u001b[0me\u001b[0m\u001b[0;34m.\u001b[0m\u001b[0m__traceback__\u001b[0m\u001b[0;34m)\u001b[0m\u001b[0;34m\u001b[0m\u001b[0;34m\u001b[0m\u001b[0m\n",
            "\u001b[0;32m/usr/local/lib/python3.11/dist-packages/keras/src/backend/tensorflow/trainer.py\u001b[0m in \u001b[0;36mfit\u001b[0;34m(self, x, y, batch_size, epochs, verbose, callbacks, validation_split, validation_data, shuffle, class_weight, sample_weight, initial_epoch, steps_per_epoch, validation_steps, validation_batch_size, validation_freq)\u001b[0m\n\u001b[1;32m    317\u001b[0m             \u001b[0;32mwith\u001b[0m \u001b[0mepoch_iterator\u001b[0m\u001b[0;34m.\u001b[0m\u001b[0mcatch_stop_iteration\u001b[0m\u001b[0;34m(\u001b[0m\u001b[0;34m)\u001b[0m\u001b[0;34m:\u001b[0m\u001b[0;34m\u001b[0m\u001b[0;34m\u001b[0m\u001b[0m\n\u001b[1;32m    318\u001b[0m                 \u001b[0;32mfor\u001b[0m \u001b[0mstep\u001b[0m\u001b[0;34m,\u001b[0m \u001b[0miterator\u001b[0m \u001b[0;32min\u001b[0m \u001b[0mepoch_iterator\u001b[0m\u001b[0;34m.\u001b[0m\u001b[0menumerate_epoch\u001b[0m\u001b[0;34m(\u001b[0m\u001b[0;34m)\u001b[0m\u001b[0;34m:\u001b[0m\u001b[0;34m\u001b[0m\u001b[0;34m\u001b[0m\u001b[0m\n\u001b[0;32m--> 319\u001b[0;31m                     \u001b[0mcallbacks\u001b[0m\u001b[0;34m.\u001b[0m\u001b[0mon_train_batch_begin\u001b[0m\u001b[0;34m(\u001b[0m\u001b[0mstep\u001b[0m\u001b[0;34m)\u001b[0m\u001b[0;34m\u001b[0m\u001b[0;34m\u001b[0m\u001b[0m\n\u001b[0m\u001b[1;32m    320\u001b[0m                     \u001b[0mlogs\u001b[0m \u001b[0;34m=\u001b[0m \u001b[0mself\u001b[0m\u001b[0;34m.\u001b[0m\u001b[0mtrain_function\u001b[0m\u001b[0;34m(\u001b[0m\u001b[0miterator\u001b[0m\u001b[0;34m)\u001b[0m\u001b[0;34m\u001b[0m\u001b[0;34m\u001b[0m\u001b[0m\n\u001b[1;32m    321\u001b[0m                     \u001b[0mlogs\u001b[0m \u001b[0;34m=\u001b[0m \u001b[0mself\u001b[0m\u001b[0;34m.\u001b[0m\u001b[0m_pythonify_logs\u001b[0m\u001b[0;34m(\u001b[0m\u001b[0mlogs\u001b[0m\u001b[0;34m)\u001b[0m\u001b[0;34m\u001b[0m\u001b[0;34m\u001b[0m\u001b[0m\n",
            "\u001b[0;32m/usr/local/lib/python3.11/dist-packages/keras/src/callbacks/callback_list.py\u001b[0m in \u001b[0;36mon_train_batch_begin\u001b[0;34m(self, batch, logs)\u001b[0m\n\u001b[1;32m     96\u001b[0m             \u001b[0mcallback\u001b[0m\u001b[0;34m.\u001b[0m\u001b[0mon_epoch_end\u001b[0m\u001b[0;34m(\u001b[0m\u001b[0mepoch\u001b[0m\u001b[0;34m,\u001b[0m \u001b[0mlogs\u001b[0m\u001b[0;34m)\u001b[0m\u001b[0;34m\u001b[0m\u001b[0;34m\u001b[0m\u001b[0m\n\u001b[1;32m     97\u001b[0m \u001b[0;34m\u001b[0m\u001b[0m\n\u001b[0;32m---> 98\u001b[0;31m     \u001b[0;32mdef\u001b[0m \u001b[0mon_train_batch_begin\u001b[0m\u001b[0;34m(\u001b[0m\u001b[0mself\u001b[0m\u001b[0;34m,\u001b[0m \u001b[0mbatch\u001b[0m\u001b[0;34m,\u001b[0m \u001b[0mlogs\u001b[0m\u001b[0;34m=\u001b[0m\u001b[0;32mNone\u001b[0m\u001b[0;34m)\u001b[0m\u001b[0;34m:\u001b[0m\u001b[0;34m\u001b[0m\u001b[0;34m\u001b[0m\u001b[0m\n\u001b[0m\u001b[1;32m     99\u001b[0m         \u001b[0mlogs\u001b[0m \u001b[0;34m=\u001b[0m \u001b[0mlogs\u001b[0m \u001b[0;32mor\u001b[0m \u001b[0;34m{\u001b[0m\u001b[0;34m}\u001b[0m\u001b[0;34m\u001b[0m\u001b[0;34m\u001b[0m\u001b[0m\n\u001b[1;32m    100\u001b[0m         \u001b[0;32mfor\u001b[0m \u001b[0mcallback\u001b[0m \u001b[0;32min\u001b[0m \u001b[0mself\u001b[0m\u001b[0;34m.\u001b[0m\u001b[0mcallbacks\u001b[0m\u001b[0;34m:\u001b[0m\u001b[0;34m\u001b[0m\u001b[0;34m\u001b[0m\u001b[0m\n",
            "\u001b[0;31mKeyboardInterrupt\u001b[0m: "
          ]
        }
      ]
    },
    {
      "cell_type": "code",
      "source": [
        "results_df = pd.DataFrame(results)"
      ],
      "metadata": {
        "id": "W2GGb7XD6frX"
      },
      "execution_count": null,
      "outputs": []
    },
    {
      "cell_type": "code",
      "source": [
        "results_df = results_df.sort_values(by='test_accuracy', ascending=False)"
      ],
      "metadata": {
        "id": "rRyv5-NM_bNv"
      },
      "execution_count": null,
      "outputs": []
    },
    {
      "cell_type": "code",
      "source": [
        "# Display the top 5 configurations\n",
        "print(\"Top 5 configurations:\")\n",
        "print(results_df.head())"
      ],
      "metadata": {
        "id": "zuMFxMh3_izQ"
      },
      "execution_count": null,
      "outputs": []
    }
  ]
}